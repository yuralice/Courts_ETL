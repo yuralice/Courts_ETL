{
 "cells": [
  {
   "cell_type": "code",
   "execution_count": 111,
   "metadata": {},
   "outputs": [],
   "source": [
    "import pymongo\n",
    "import pandas as pd\n",
    "conn = 'mongodb://localhost:27017'\n",
    "client = pymongo.MongoClient(conn)\n",
    "# Dependencies\n",
    "from bs4 import BeautifulSoup\n",
    "import requests\n",
    "db=client.court_db\n",
    "db.court.drop()\n",
    "from splinter import Browser\n",
    "from pprint import pprint"
   ]
  },
  {
   "cell_type": "code",
   "execution_count": 120,
   "metadata": {},
   "outputs": [
    {
     "data": {
      "text/html": [
       "<div>\n",
       "<style scoped>\n",
       "    .dataframe tbody tr th:only-of-type {\n",
       "        vertical-align: middle;\n",
       "    }\n",
       "\n",
       "    .dataframe tbody tr th {\n",
       "        vertical-align: top;\n",
       "    }\n",
       "\n",
       "    .dataframe thead th {\n",
       "        text-align: right;\n",
       "    }\n",
       "</style>\n",
       "<table border=\"1\" class=\"dataframe\">\n",
       "  <thead>\n",
       "    <tr style=\"text-align: right;\">\n",
       "      <th></th>\n",
       "      <th>Appellate Case Number</th>\n",
       "      <th>Appeal Date Filed</th>\n",
       "      <th>Appellant (lost in trial)</th>\n",
       "      <th>Appellee (won in trial)</th>\n",
       "      <th>Case Type</th>\n",
       "      <th>Trial Court Case Number</th>\n",
       "      <th>Trial Court County</th>\n",
       "      <th>Trial Court</th>\n",
       "      <th>Appellate Court</th>\n",
       "    </tr>\n",
       "  </thead>\n",
       "  <tbody>\n",
       "    <tr>\n",
       "      <th>0</th>\n",
       "      <td>01-18-01140-CR</td>\n",
       "      <td>12/31/2018</td>\n",
       "      <td>Cecilio Mendoza</td>\n",
       "      <td>The State of Texas</td>\n",
       "      <td>Sexual Assault</td>\n",
       "      <td>83463-CR</td>\n",
       "      <td>Brazoria</td>\n",
       "      <td>149th District Court</td>\n",
       "      <td>COA01</td>\n",
       "    </tr>\n",
       "    <tr>\n",
       "      <th>1</th>\n",
       "      <td>01-18-01141-CR</td>\n",
       "      <td>12/31/2018</td>\n",
       "      <td>William Whitfield</td>\n",
       "      <td>The State of Texas</td>\n",
       "      <td>Aggravated Robbery</td>\n",
       "      <td>1586194</td>\n",
       "      <td>Harris</td>\n",
       "      <td>185th District Court</td>\n",
       "      <td>COA01</td>\n",
       "    </tr>\n",
       "    <tr>\n",
       "      <th>2</th>\n",
       "      <td>01-18-01144-CR</td>\n",
       "      <td>12/31/2018</td>\n",
       "      <td>In re Lonnie Henry Rector, Jr.</td>\n",
       "      <td>NaN</td>\n",
       "      <td>Mandamus</td>\n",
       "      <td>714415</td>\n",
       "      <td>Harris</td>\n",
       "      <td>262nd District Court</td>\n",
       "      <td>COA01</td>\n",
       "    </tr>\n",
       "    <tr>\n",
       "      <th>3</th>\n",
       "      <td>01-18-01145-CV</td>\n",
       "      <td>12/31/2018</td>\n",
       "      <td>Dwayne Rayshaun Wilson</td>\n",
       "      <td>Empire Towing LLC. and ATC Auto Stora...</td>\n",
       "      <td>Contract</td>\n",
       "      <td>1117336</td>\n",
       "      <td>Harris</td>\n",
       "      <td>Co Civil Ct at Law No 2</td>\n",
       "      <td>COA01</td>\n",
       "    </tr>\n",
       "    <tr>\n",
       "      <th>4</th>\n",
       "      <td>01-18-01146-CV</td>\n",
       "      <td>12/31/2018</td>\n",
       "      <td>Thang Bui and Monique Nguyen</td>\n",
       "      <td>Maya Dangelas</td>\n",
       "      <td>Interlocutory</td>\n",
       "      <td>2018-55787</td>\n",
       "      <td>Harris</td>\n",
       "      <td>152nd District Court</td>\n",
       "      <td>COA01</td>\n",
       "    </tr>\n",
       "  </tbody>\n",
       "</table>\n",
       "</div>"
      ],
      "text/plain": [
       "  Appellate Case Number Appeal Date Filed       Appellant (lost in trial)  \\\n",
       "0        01-18-01140-CR        12/31/2018                 Cecilio Mendoza   \n",
       "1        01-18-01141-CR        12/31/2018               William Whitfield   \n",
       "2        01-18-01144-CR        12/31/2018  In re Lonnie Henry Rector, Jr.   \n",
       "3        01-18-01145-CV        12/31/2018          Dwayne Rayshaun Wilson   \n",
       "4        01-18-01146-CV        12/31/2018    Thang Bui and Monique Nguyen   \n",
       "\n",
       "                    Appellee (won in trial)           Case Type  \\\n",
       "0                        The State of Texas      Sexual Assault   \n",
       "1                        The State of Texas  Aggravated Robbery   \n",
       "2                                       NaN            Mandamus   \n",
       "3  Empire Towing LLC. and ATC Auto Stora...            Contract   \n",
       "4                             Maya Dangelas       Interlocutory   \n",
       "\n",
       "  Trial Court Case Number Trial Court County              Trial Court  \\\n",
       "0                83463-CR           Brazoria     149th District Court   \n",
       "1                 1586194             Harris     185th District Court   \n",
       "2                  714415             Harris     262nd District Court   \n",
       "3                 1117336             Harris  Co Civil Ct at Law No 2   \n",
       "4              2018-55787             Harris     152nd District Court   \n",
       "\n",
       "  Appellate Court  \n",
       "0           COA01  \n",
       "1           COA01  \n",
       "2           COA01  \n",
       "3           COA01  \n",
       "4           COA01  "
      ]
     },
     "execution_count": 120,
     "metadata": {},
     "output_type": "execute_result"
    }
   ],
   "source": [
    "appeal_df = pd.read_csv(\"appellate.csv\") #csv file which you want to import\n",
    "appeal_df.head()\n",
    "\n",
    "appeal_df.columns = ['Appellate Case Number', 'Appeal Date Filed', 'Appellant (lost in trial)', 'Appellee (won in trial)', \n",
    "                'Case Type', 'COA Case Number', 'COA Case Number_2', 'Trial Court Case Number', 'Trial Court County', 'Trial Court', 'Appellate Court'] \n",
    "appeal_df.head()\n",
    "appeal_df = appeal_df.iloc[:, [0,1,2,3,4,7,8,9,10]]\n",
    "appeal_df.head()\n"
   ]
  },
  {
   "cell_type": "code",
   "execution_count": 122,
   "metadata": {},
   "outputs": [],
   "source": [
    "#appeal_df[appeal_df['Trial Court County']== \"Harris\"]"
   ]
  },
  {
   "cell_type": "code",
   "execution_count": 113,
   "metadata": {},
   "outputs": [],
   "source": [
    "records = appeal_df.to_dict(orient = 'records')"
   ]
  },
  {
   "cell_type": "code",
   "execution_count": 114,
   "metadata": {},
   "outputs": [
    {
     "data": {
      "text/plain": [
       "<pymongo.results.InsertManyResult at 0x170cb527148>"
      ]
     },
     "execution_count": 114,
     "metadata": {},
     "output_type": "execute_result"
    }
   ],
   "source": [
    "# Creates a collection in the database and inserts documents\n",
    "db.appellate.insert_many(records)"
   ]
  },
  {
   "cell_type": "code",
   "execution_count": 21,
   "metadata": {},
   "outputs": [],
   "source": [
    "###Trial Court Data"
   ]
  },
  {
   "cell_type": "code",
   "execution_count": 129,
   "metadata": {},
   "outputs": [],
   "source": [
    "#executable_path = {'executable_path':'./chromedriver.exe'}  \n",
    "#browser = Browser(\"chrome\", **executable_path, headless=False)\n",
    "#browser = init_browser()\n",
    "    # URL of page to be scraped\n",
    "#url = 'https://www.hcdistrictclerk.com/eDocs/Public/Search.aspx?Tab=tabVerdicts'\n",
    "#browser.visit(url)\n",
    "#browser.fill('ctl00$ctl00$ctl00$ContentPlaceHolder1$ContentPlaceHolder2$ContentPlaceHolder2$tabSearch$tabVerdicts$txtCaseNumberverdicts', value='100')\n",
    "#browser.fill('ctl00$ctl00$ctl00$ContentPlaceHolder1$ContentPlaceHolder2$ContentPlaceHolder2$tabSearch$tabVerdicts$txtVerdictStartDate', '1/1/2018')\n",
    "#browser.fill('ctl00$ctl00$ctl00$ContentPlaceHolder1$ContentPlaceHolder2$ContentPlaceHolder2$tabSearch$tabVerdicts$txtVerdictEndDate', '1/1/2019')\n",
    "#browser.find_by_name('ctl00$ctl00$ctl00$ContentPlaceHolder1$ContentPlaceHolder2$ContentPlaceHolder2$tabSearch$tabVerdicts$txtVerdictStartDate').type('1/1/2018', slowly=True)\n",
    "\n",
    "\n",
    "\n",
    "    # Find and click the 'search' button\n",
    "#button = browser.find_by_name('ctl00$ctl00$ctl00$ContentPlaceHolder1$ContentPlaceHolder2$ContentPlaceHolder2$btnSearch')\n",
    "    # Interact with elements\n",
    "#button.click()\n",
    "    #if browser.is_text_present('splinter.readthedocs.io'):\n",
    "    #    print(\"Yes, the official website was found!\")\n",
    "    #else:\n",
    "    #    print(\"No, it wasn't found... We need to improve our SEO techniques\")\n",
    "        \n",
    "\n"
   ]
  },
  {
   "cell_type": "code",
   "execution_count": null,
   "metadata": {},
   "outputs": [],
   "source": [
    "### Civil Judge Data"
   ]
  },
  {
   "cell_type": "code",
   "execution_count": 88,
   "metadata": {},
   "outputs": [],
   "source": [
    "#executable_path = {'executable_path':'./chromedriver.exe'}  \n",
    "#browser = Browser(\"chrome\", **executable_path, headless=False)\n",
    "url = 'https://www.justex.net/Courts/Civil/CivilCourts.aspx'\n",
    "# Retrieve page with the requests module\n",
    "response = requests.get(url)\n",
    "# Create BeautifulSoup object; parse with 'html.parser'\n",
    "soup = BeautifulSoup(response.text, 'html.parser')\n",
    "#print(soup.prettify())\n",
    "civil_judges = soup.find_all(\"a\", href=lambda href: href and \"CivilCourt\" in href)"
   ]
  },
  {
   "cell_type": "code",
   "execution_count": 86,
   "metadata": {},
   "outputs": [
    {
     "name": "stdout",
     "output_type": "stream",
     "text": [
      "1\n"
     ]
    },
    {
     "data": {
      "text/plain": [
       "'Judge Kristen Brauchle Hawkins'"
      ]
     },
     "execution_count": 86,
     "metadata": {},
     "output_type": "execute_result"
    }
   ],
   "source": [
    "#tst = civil_judges[0]\n",
    "#print(tst['href'].split('=')[1])\n",
    "#tst.text"
   ]
  },
  {
   "cell_type": "code",
   "execution_count": 142,
   "metadata": {},
   "outputs": [
    {
     "data": {
      "text/plain": [
       "<pymongo.results.InsertManyResult at 0x170cbb32f48>"
      ]
     },
     "execution_count": 142,
     "metadata": {},
     "output_type": "execute_result"
    }
   ],
   "source": [
    "civillist = []\n",
    "i = 0\n",
    "for x in civil_judges:\n",
    "\n",
    "        civil_dict = {}\n",
    "        current_judge = civil_judges[i]\n",
    "        court_number = (current_judge['href'].split('=')[1])\n",
    "        judge_name = current_judge.text\n",
    "        #print(court_number)\n",
    "        #print(judge_name)\n",
    "        i += 1\n",
    "        civil_dict['court_number'] = court_number\n",
    "        civil_dict['judge_name'] = judge_name\n",
    "        civillist.append(civil_dict)\n",
    "#print(civil_dict)\n",
    "#print(civillist)\n",
    "civil_df = pd.DataFrame(civillist)\n",
    "civil_df.head()\n",
    "civil_df.columns = ['Civil Court Number', 'Civil Judge Name'] \n",
    "civil_df.head()\n",
    "civrecords = civil_df.to_dict(orient = 'records')\n",
    "db.civiljudges.insert_many(civrecords)"
   ]
  },
  {
   "cell_type": "code",
   "execution_count": null,
   "metadata": {},
   "outputs": [],
   "source": [
    "### Criminal Judge Data"
   ]
  },
  {
   "cell_type": "code",
   "execution_count": 139,
   "metadata": {},
   "outputs": [],
   "source": [
    "#executable_path = {'executable_path':'./chromedriver.exe'}  \n",
    "#browser = Browser(\"chrome\", **executable_path, headless=False)\n",
    "url = 'https://www.justex.net/Courts/Criminal/CriminalCourts.aspx'\n",
    "# Retrieve page with the requests module\n",
    "response = requests.get(url)\n",
    "# Create BeautifulSoup object; parse with 'html.parser'\n",
    "crimsoup = BeautifulSoup(response.text, 'html.parser')\n",
    "#print(soup.prettify())\n",
    "criminal_judges = crimsoup.find_all(\"a\", class_='',href=lambda href: href and \"CriminalCourt\" in href)\n",
    "#criminal_judges"
   ]
  },
  {
   "cell_type": "code",
   "execution_count": 143,
   "metadata": {},
   "outputs": [
    {
     "data": {
      "text/plain": [
       "<pymongo.results.InsertManyResult at 0x170cd3e0b88>"
      ]
     },
     "execution_count": 143,
     "metadata": {},
     "output_type": "execute_result"
    }
   ],
   "source": [
    "crimlist = []\n",
    "i = 0\n",
    "for x in criminal_judges:\n",
    "\n",
    "        crim_dict = {}\n",
    "        current_crim_judge = criminal_judges[i]\n",
    "        crim_court_number = (current_crim_judge['href'].split('=')[1])\n",
    "        crim_judge_name = current_crim_judge.text\n",
    "        i += 1\n",
    "        crim_dict['court_number'] = crim_court_number\n",
    "        crim_dict['judge_name'] = crim_judge_name\n",
    "        crimlist.append(crim_dict)\n",
    "\n",
    "#print(crimlist)\n",
    "criminal_df = pd.DataFrame(crimlist)\n",
    "criminal_df.head()\n",
    "criminal_df.columns = ['Criminal Court Number', 'Criminal Judge Name'] \n",
    "criminal_df.head()\n",
    "crimrecords = criminal_df.to_dict(orient = 'records')\n",
    "db.crimjudges.insert_many(crimrecords)"
   ]
  }
 ],
 "metadata": {
  "kernelspec": {
   "display_name": "Python 3",
   "language": "python",
   "name": "python3"
  },
  "language_info": {
   "codemirror_mode": {
    "name": "ipython",
    "version": 3
   },
   "file_extension": ".py",
   "mimetype": "text/x-python",
   "name": "python",
   "nbconvert_exporter": "python",
   "pygments_lexer": "ipython3",
   "version": "3.7.0"
  }
 },
 "nbformat": 4,
 "nbformat_minor": 2
}
